{
 "cells": [
  {
   "cell_type": "markdown",
   "metadata": {},
   "source": [
    "## A python notebook on publicly available data on Melbourne city. ##\n",
    "\n",
    "Data source: \n",
    "* http://data.gov.au/dataset/bars-and-pubs-with-patron-capacity\n",
    "* https://data.melbourne.vic.gov.au/Economy/Employment-by-block-by-industry/b36j-kiy4/data"
   ]
  },
  {
   "cell_type": "code",
   "execution_count": 8,
   "metadata": {
    "collapsed": false
   },
   "outputs": [
    {
     "data": {
      "image/png": "[encoded data removed]",
      "text/plain": [
       "<matplotlib.figure.Figure at 0x113479588>"
      ]
     },
     "metadata": {},
     "output_type": "display_data"
    }
   ],
   "source": [
    "import pandas as pd\n",
    "import matplotlib.pyplot as plt; plt.rcdefaults()\n",
    "import numpy as np\n",
    "import matplotlib.pyplot as plt\n",
    " \n",
    "data = pd.read_csv('Bars_and_pubs__with_patron_capacity.csv')   \n",
    "years = np.unique(data.values[:,0])\n",
    "\n",
    "data = data.groupby('Census year').count()\n",
    "\n",
    "y_pos = years\n",
    "performance = data.values[:,1]\n",
    "\n",
    "plt.bar(y_pos, performance, align='center', alpha=0.5)\n",
    "plt.xticks(y_pos, years,rotation=90)\n",
    "plt.ylabel('Number of licenses')\n",
    "plt.xlabel('Year')\n",
    "plt.title('Melbourne Liquor licenses by year')\n",
    "\n",
    "plt.show()\n",
    "\n",
    "\n"
   ]
  },
  {
   "cell_type": "code",
   "execution_count": 2,
   "metadata": {
    "collapsed": false
   },
   "outputs": [
    {
     "data": {
      "text/html": [
       "<div>\n",
       "<table border=\"1\" class=\"dataframe\">\n",
       "  <thead>\n",
       "    <tr style=\"text-align: right;\">\n",
       "      <th></th>\n",
       "      <th>Census year</th>\n",
       "      <th>Block ID</th>\n",
       "      <th>Property ID</th>\n",
       "      <th>Base property ID</th>\n",
       "      <th>Street address</th>\n",
       "      <th>CLUE small area</th>\n",
       "      <th>Trading name</th>\n",
       "      <th>Number of patrons</th>\n",
       "      <th>x coordinate</th>\n",
       "      <th>y coordinate</th>\n",
       "      <th>Location</th>\n",
       "    </tr>\n",
       "  </thead>\n",
       "  <tbody>\n",
       "    <tr>\n",
       "      <th>0</th>\n",
       "      <td>2002</td>\n",
       "      <td>247</td>\n",
       "      <td>106238</td>\n",
       "      <td>106238</td>\n",
       "      <td>192-202 Lygon Street</td>\n",
       "      <td>Carlton</td>\n",
       "      <td>Players On Lygon</td>\n",
       "      <td>200</td>\n",
       "      <td>144.967052</td>\n",
       "      <td>-37.802459</td>\n",
       "      <td>(-37.80245924, 144.9670522)</td>\n",
       "    </tr>\n",
       "    <tr>\n",
       "      <th>1</th>\n",
       "      <td>2002</td>\n",
       "      <td>252</td>\n",
       "      <td>106244</td>\n",
       "      <td>106244</td>\n",
       "      <td>160-162 Lygon Street</td>\n",
       "      <td>Carlton</td>\n",
       "      <td>Bar Centrale</td>\n",
       "      <td>500</td>\n",
       "      <td>144.966770</td>\n",
       "      <td>-37.803442</td>\n",
       "      <td>(-37.80344164, 144.9667699)</td>\n",
       "    </tr>\n",
       "    <tr>\n",
       "      <th>2</th>\n",
       "      <td>2006</td>\n",
       "      <td>16</td>\n",
       "      <td>104018</td>\n",
       "      <td>104018</td>\n",
       "      <td>172-192 Flinders Street</td>\n",
       "      <td>Melbourne (CBD)</td>\n",
       "      <td>Purple Emerald</td>\n",
       "      <td>110</td>\n",
       "      <td>144.968543</td>\n",
       "      <td>-37.816639</td>\n",
       "      <td>(-37.81663851, 144.9685429)</td>\n",
       "    </tr>\n",
       "    <tr>\n",
       "      <th>3</th>\n",
       "      <td>2002</td>\n",
       "      <td>214</td>\n",
       "      <td>106186</td>\n",
       "      <td>106186</td>\n",
       "      <td>414-422 Lygon Street</td>\n",
       "      <td>Carlton</td>\n",
       "      <td>Percys Bar &amp; Bistro</td>\n",
       "      <td>120</td>\n",
       "      <td>144.967813</td>\n",
       "      <td>-37.796946</td>\n",
       "      <td>(-37.79694555, 144.9678126)</td>\n",
       "    </tr>\n",
       "    <tr>\n",
       "      <th>4</th>\n",
       "      <td>2008</td>\n",
       "      <td>76</td>\n",
       "      <td>589841</td>\n",
       "      <td>105749</td>\n",
       "      <td>221 Little Lonsdale Street</td>\n",
       "      <td>Melbourne (CBD)</td>\n",
       "      <td>JWow Bar</td>\n",
       "      <td>100</td>\n",
       "      <td>144.965703</td>\n",
       "      <td>-37.810658</td>\n",
       "      <td>(-37.810658, 144.9657034)</td>\n",
       "    </tr>\n",
       "  </tbody>\n",
       "</table>\n",
       "</div>"
      ],
      "text/plain": [
       "   Census year  Block ID  Property ID  Base property ID  \\\n",
       "0         2002       247       106238            106238   \n",
       "1         2002       252       106244            106244   \n",
       "2         2006        16       104018            104018   \n",
       "3         2002       214       106186            106186   \n",
       "4         2008        76       589841            105749   \n",
       "\n",
       "               Street address  CLUE small area         Trading name  \\\n",
       "0        192-202 Lygon Street          Carlton     Players On Lygon   \n",
       "1        160-162 Lygon Street          Carlton         Bar Centrale   \n",
       "2     172-192 Flinders Street  Melbourne (CBD)       Purple Emerald   \n",
       "3        414-422 Lygon Street          Carlton  Percys Bar & Bistro   \n",
       "4  221 Little Lonsdale Street  Melbourne (CBD)             JWow Bar   \n",
       "\n",
       "   Number of patrons  x coordinate  y coordinate                     Location  \n",
       "0                200    144.967052    -37.802459  (-37.80245924, 144.9670522)  \n",
       "1                500    144.966770    -37.803442  (-37.80344164, 144.9667699)  \n",
       "2                110    144.968543    -37.816639  (-37.81663851, 144.9685429)  \n",
       "3                120    144.967813    -37.796946  (-37.79694555, 144.9678126)  \n",
       "4                100    144.965703    -37.810658    (-37.810658, 144.9657034)  "
      ]
     },
     "execution_count": 2,
     "metadata": {},
     "output_type": "execute_result"
    }
   ],
   "source": [
    "data_raw = pd.read_csv('Bars_and_pubs__with_patron_capacity.csv')   \n",
    "data_raw.head()\n"
   ]
  },
  {
   "cell_type": "code",
   "execution_count": 3,
   "metadata": {
    "collapsed": false
   },
   "outputs": [],
   "source": [
    "import folium\n",
    "\n",
    "MELB_COORDINATES = (-37.81, 144.96)\n",
    "\n",
    "# create empty map zoomed in on Melbourne\n",
    "Melb_map = folium.Map(location=MELB_COORDINATES, tiles='Stamen Terrain',zoom_start=14)\n",
    "\n",
    "# for debug purposes\n",
    "#MAX_RECORDS = 10  \n",
    "#[0:MAX_RECORDS]\n",
    "\n",
    "# customised font for popup\n",
    "html_style=\"\"\"<style>\n",
    "body{\n",
    "   font-family: sans-serif;\n",
    "   color: #1968FB;\n",
    "   font-size: 0.9em;\n",
    "}\n",
    "</style>\"\"\"\n",
    "\n",
    "html=\"\"\"<br>\"\"\"\n",
    "\n",
    "for each in data_raw.iterrows():\n",
    "    popup=html_style+'<b>'+each[1]['Trading name']+'</b>'+html+'licensed # of patrons= '+str(each[1]['Number of patrons'])\n",
    "    iframe = folium.IFrame(html=popup, width=210, height=60)\n",
    "    popup = folium.Popup(iframe, max_width=210)\n",
    "    folium.CircleMarker(\n",
    "        location = [each[1]['y coordinate'],each[1]['x coordinate']],\n",
    "        color='#1968FB', fill_color='#1968FB', fill_opacity = '0.3',\n",
    "        popup=popup,\n",
    "        radius=each[1]['Number of patrons']/100).add_to(Melb_map)\n",
    "\n",
    "#display(map)\n",
    "Melb_map.save(\"melbournemap.html\")"
   ]
  },
  {
   "cell_type": "code",
   "execution_count": 10,
   "metadata": {
    "collapsed": false,
    "scrolled": false
   },
   "outputs": [
    {
     "data": {
      "text/html": [
       "<iframe src=melbournemap.html width=800 height=450></iframe>"
      ],
      "text/plain": [
       "<IPython.core.display.HTML object>"
      ]
     },
     "execution_count": 10,
     "metadata": {},
     "output_type": "execute_result"
    }
   ],
   "source": [
    "# Import the Folium interactive html file\n",
    "from IPython.display import HTML\n",
    "HTML('<iframe src=melbournemap.html width=800 height=450></iframe>')"
   ]
  },
  {
   "cell_type": "code",
   "execution_count": null,
   "metadata": {
    "collapsed": true
   },
   "outputs": [],
   "source": []
  }
 ],
 "metadata": {
  "anaconda-cloud": {},
  "kernelspec": {
   "display_name": "Python [conda root]",
   "language": "python",
   "name": "conda-root-py"
  },
  "language_info": {
   "codemirror_mode": {
    "name": "ipython",
    "version": 3
   },
   "file_extension": ".py",
   "mimetype": "text/x-python",
   "name": "python",
   "nbconvert_exporter": "python",
   "pygments_lexer": "ipython3",
   "version": "3.5.2"
  }
 },
 "nbformat": 4,
 "nbformat_minor": 1
}
