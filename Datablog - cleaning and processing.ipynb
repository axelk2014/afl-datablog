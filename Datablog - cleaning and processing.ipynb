{
 "cells": [
  {
   "cell_type": "markdown",
   "metadata": {},
   "source": [
    "Initial Setup sourcing and cleaning"
   ]
  },
  {
   "cell_type": "markdown",
   "metadata": {},
   "source": []
  },
  {
   "cell_type": "markdown",
   "metadata": {},
   "source": [
    "## Question 1: Are there any significant differences between teams, looking only at the game stats?"
   ]
  },
  {
   "cell_type": "markdown",
   "metadata": {},
   "source": [
    "\n",
    "## Question 2: Does the average temperature affect team performance?\n",
    "#### (i.e do some teams play better at certain temperatures?)\n",
    "\n",
    "\n",
    "#### Method:\n",
    "**Sourcing the data:\n",
    "1. Detail the physical location of each stadium using wikipedia.\n",
    "2. Using bom.gov.au and google maps, locate the weather stations closest to each stadium\n",
    "3. Download the weather records from selected weather stations (http://www.bom.gov.au/climate/data/index.shtml?bookmark=201)\n",
    "4. Some of the weather records are incomplete, so work out secondary stations that are still near the stadiums that can fill in the gaps\n",
    "\n",
    "**Cleaning the data**\n",
    "<i> Note: not all steps for data cleaning are detailed, just highlights. Full code available from the repo: </i>\n",
    "\n",
    "Assuming you have extracted all the bom zip files csvs into a single driectory:\n",
    "1. Create a data frame with all weather records (ldply is our friend):\n",
    "```\n",
    "lstofCSVs <- as.list(list.files(\"data/raw/bomdata\"))\n",
    "tmpcsv <- ldply(paste(\"data/raw/bomdata/\",lstofCSVs,sep=\"\"), read.csv)\n",
    "```\n",
    "```\n",
    "head(tmpcsv[which(tmpcsv$Date>'2009-10-01'),], 2)\n",
    "      Product.code Bureau.of.Meteorology.station.number Year Month Day\n",
    "15616   IDCJAC0009                                 9151 2009    10   2\n",
    "15617   IDCJAC0009                                 9151 2009    10   3\n",
    "      Rainfall.amount..millimetres.\n",
    "15616                           0.0\n",
    "15617                           2.2\n",
    "      Period.over.which.rainfall.was.measured..days. Quality\n",
    "15616                                             NA       Y\n",
    "15617                                              1       Y\n",
    "      Maximum.temperature..Degree.C.\n",
    "15616                             NA\n",
    "15617                             NA\n",
    "      Days.of.accumulation.of.maximum.temperature\n",
    "15616                                          NA\n",
    "15617                                          NA\n",
    "      Minimum.temperature..Degree.C.\n",
    "15616                             NA\n",
    "15617                             NA\n",
    "      Days.of.accumulation.of.minimum.temperature       Date\n",
    "15616                                          NA 2009-10-02\n",
    "15617                                          NA 2009-10-03\n",
    "```\n",
    "\n",
    "\n",
    "1. Create a ISO 8601 formatted date field (helps with dataframe operations later on):\n",
    "```\n",
    "tmpcsv$Date <- as.Date(paste(tmpcsv$Year, \"-\", sprintf(\"%02d\", tmpcsv$Month),\n",
    "\"-\",sprintf(\"%02d\",tmpcsv$Day), sep=\"\"))\n",
    "```\n",
    "\n",
    "1. Get list of dates of all games played (2016 only):\n",
    "```\n",
    "lstDatesofGamesPlayed <- unique(tmp.afl[which(tmp.afl$Date < \"2017-01-01\"),]$Date)\n",
    "```\n",
    "1. "
   ]
  },
  {
   "cell_type": "markdown",
   "metadata": {},
   "source": [
    "## <a id=\"question-3\">Question 3: Is there a different body type between professional codes?\n",
    "#### (and how different?)</a>\n",
    "\n"
   ]
  }
 ],
 "metadata": {
  "anaconda-cloud": {},
  "kernelspec": {
   "display_name": "R",
   "language": "R",
   "name": "ir"
  },
  "language_info": {
   "codemirror_mode": "r",
   "file_extension": ".r",
   "mimetype": "text/x-r-source",
   "name": "R",
   "pygments_lexer": "r",
   "version": "3.4.0"
  }
 },
 "nbformat": 4,
 "nbformat_minor": 2
}
